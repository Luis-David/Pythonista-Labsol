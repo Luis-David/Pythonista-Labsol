{
 "cells": [
  {
   "cell_type": "markdown",
   "metadata": {},
   "source": [
    "## Objetivo del código.\n",
    "\n",
    "El código de este ejercicio tiene por objetivo el de formar un sistema básico de altas de alumnos con los siguientes campos datos:\n",
    "\n",
    "* Nombre.\n",
    "* Primer apellido.\n",
    "* Segundo apellido (opcional).\n",
    "* Carrera.\n",
    "* Semestre.\n",
    "* Promedio.\n",
    "* Si se encuentra al corriente en sus pagos mediante un objeto de tipo *bool*.\n",
    "\n",
    "Existen ciertas reglas que deben de reforzarse:\n",
    "\n",
    "* Cada campo debe de corresponder de un tipo de dato específico.\n",
    "* El promedio del alumno debe de ser una cantidad entre 0 y 10.\n",
    "* Los semestres son enteros mayores o iguales a 1.\n",
    "* Sólo se pueden ingresar carreras registradas.\n",
    "* Aún cuando el campo Segundo apellido es opcional, es necesario pedir confirmación de que se deja en blanco.\n",
    "\n",
    "\n",
    "## Ejecución:\n",
    "\n",
    "Al ejecutar el código, se pedirá al usuario que ingrese el número de alumnos a dar de alta y el sistema procederá a pedir y validar cada campo de datos del alumno.\n",
    "Una vez terminada la captura, desplegará los datos de todos los registros."
   ]
  },
  {
   "cell_type": "markdown",
   "metadata": {},
   "source": [
    "## El paquete *caso*.\n",
    "\n",
    "Este paquete incluye varios módulos que realizarán las actividades descritas con los datos en memoria."
   ]
  },
  {
   "cell_type": "code",
   "execution_count": 1,
   "metadata": {},
   "outputs": [],
   "source": [
    "import caso"
   ]
  },
  {
   "cell_type": "code",
   "execution_count": 3,
   "metadata": {},
   "outputs": [
    {
     "name": "stdout",
     "output_type": "stream",
     "text": [
      "Número de alumnos:1\n",
      "\n",
      "\n",
      "Alumno nuevo 1\n",
      "Ingrese nombre: l\n",
      "Ingrese primer apellido: l\n",
      "Ingrese segundo apellido: l\n",
      "Ingrese carrera: sistemas\n",
      "Ingrese carrera: Sistemas\n",
      "Ingrese semestre: 0\n",
      "Ingrese semestre: 1\n",
      "Ingrese promedio: 2\n",
      "Ingrese al corriente: 3\n",
      "Ingrese al corriente: true\n",
      "Ingrese al corriente: 1\n",
      "\n",
      "Alumno:  1\n",
      "Nombre: Eduardo\n",
      "Primer Apellido: Sánchez\n",
      "Segundo Apellido: Ramos\n",
      "Carrera: Sistemas\n",
      "Semestre: 6\n",
      "Promedio: 7.5\n",
      "Al Corriente: True\n",
      "\n",
      "Alumno:  2\n",
      "Nombre: Alberto\n",
      "Primer Apellido: Durán\n",
      "Segundo Apellido: Montellano\n",
      "Carrera: Derecho\n",
      "Semestre: 2\n",
      "Promedio: 6.3\n",
      "Al Corriente: True\n",
      "\n",
      "Alumno:  3\n",
      "Nombre: Joaquín\n",
      "Primer Apellido: Ausencio\n",
      "Segundo Apellido: Olvera\n",
      "Carrera: Actuaría\n",
      "Semestre: 2\n",
      "Promedio: 5.2\n",
      "Al Corriente: False\n",
      "\n",
      "Alumno:  4\n",
      "Nombre: Emiliano\n",
      "Primer Apellido: Rentería\n",
      "Segundo Apellido: \n",
      "Carrera: Administración\n",
      "Semestre: 4\n",
      "Promedio: 8.7\n",
      "Al Corriente: True\n",
      "\n",
      "Alumno:  5\n",
      "Nombre: Patricio\n",
      "Primer Apellido: Ayala\n",
      "Segundo Apellido: Arriaga\n",
      "Carrera: Sistemas\n",
      "Semestre: 5\n",
      "Promedio: 8.0\n",
      "Al Corriente: True\n",
      "\n",
      "Alumno:  6\n",
      "Nombre: l\n",
      "Primer Apellido: l\n",
      "Segundo Apellido: l\n",
      "Carrera: Sistemas\n",
      "Semestre: 1\n",
      "Promedio: 2.0\n",
      "Al Corriente: True\n"
     ]
    }
   ],
   "source": [
    "caso.principal()"
   ]
  },
  {
   "cell_type": "markdown",
   "metadata": {},
   "source": [
    "## El paquete *caso_nuevo*.\n",
    "Este paquete incluye varios módulos que realizarán las actividades descritas, pero los datos son almacenados en el archivo de texto en la ruta local *caso_nuevo/alumnos.txt* como una sucesión de líneas en donde cada una de ellas corresponden a un objeto de tipo *dict*."
   ]
  },
  {
   "cell_type": "code",
   "execution_count": 4,
   "metadata": {},
   "outputs": [
    {
     "name": "stdout",
     "output_type": "stream",
     "text": [
      "{\"Nombre\":\"Eduardo\", \"Primer Apellido\": \"Sánchez\",\"Segundo Apellido\": \"Ramos\", \"Carrera\": \"Sistemas\",\"Semestre\": 6, \"Promedio\": 7.5, \"Al Corriente\": True}\r\n",
      "{\"Nombre\": \"Alberto\", \"Primer Apellido\": \"Durán\",\"Segundo Apellido\": \"Montellano\", \"Carrera\": \"Derecho\", \"Semestre\": 2, \"Promedio\": 6.3, \"Al Corriente\": True}\r\n",
      "{\"Nombre\": \"Joaquín\", \"Primer Apellido\": \"Ausencio\", \"Segundo Apellido\": \"Olvera\", \"Carrera\": \"Actuaría\", \"Semestre\": 2, \"Promedio\": 5.2, \"Al Corriente\": False}\r\n",
      "{\"Nombre\": \"Emiliano\", \"Primer Apellido\": \"Rentería\", \"Segundo Apellido\": \"\", \"Carrera\": \"Administración\", \"Semestre\": 4, \"Promedio\": 8.7, \"Al Corriente\": True}\r\n",
      "{\"Nombre\": \"Patricio\", \"Primer Apellido\": \"Ayala\", \"Segundo Apellido\": \"Arriaga\", \"Carrera\": \"Sistemas\", \"Semestre\": 5, \"Promedio\": 8.0, \"Al Corriente\": True}\r\n",
      "{'Nombre': 'Jaime', 'Primer Apellido': 'Sabines', 'Segundo Apellido': 'López', 'Carrera': 'Derecho', 'Semestre': 7, 'Promedio': 8.45, 'Al Corriente': True}\r\n"
     ]
    }
   ],
   "source": [
    "%cat caso_nuevo/alumnos.txt"
   ]
  },
  {
   "cell_type": "code",
   "execution_count": 13,
   "metadata": {},
   "outputs": [],
   "source": [
    "import caso_nuevo"
   ]
  },
  {
   "cell_type": "code",
   "execution_count": 14,
   "metadata": {},
   "outputs": [
    {
     "name": "stdout",
     "output_type": "stream",
     "text": [
      "Número1 de alumnos:2\n",
      "nose\n",
      "\n",
      "Alumno nuevo 1\n",
      "Ingrese nombre: 2\n",
      "Ingrese primer apellido: 2\n",
      "Ingrese segundo apellido: 2\n"
     ]
    },
    {
     "ename": "KeyboardInterrupt",
     "evalue": "",
     "output_type": "error",
     "traceback": [
      "\u001b[0;31m---------------------------------------------------------------------------\u001b[0m",
      "\u001b[0;31mKeyboardInterrupt\u001b[0m                         Traceback (most recent call last)",
      "\u001b[0;32m/usr/local/lib/python3.5/dist-packages/ipykernel/kernelbase.py\u001b[0m in \u001b[0;36m_input_request\u001b[0;34m(self, prompt, ident, parent, password)\u001b[0m\n\u001b[1;32m    728\u001b[0m             \u001b[0;32mtry\u001b[0m\u001b[0;34m:\u001b[0m\u001b[0;34m\u001b[0m\u001b[0m\n\u001b[0;32m--> 729\u001b[0;31m                 \u001b[0mident\u001b[0m\u001b[0;34m,\u001b[0m \u001b[0mreply\u001b[0m \u001b[0;34m=\u001b[0m \u001b[0mself\u001b[0m\u001b[0;34m.\u001b[0m\u001b[0msession\u001b[0m\u001b[0;34m.\u001b[0m\u001b[0mrecv\u001b[0m\u001b[0;34m(\u001b[0m\u001b[0mself\u001b[0m\u001b[0;34m.\u001b[0m\u001b[0mstdin_socket\u001b[0m\u001b[0;34m,\u001b[0m \u001b[0;36m0\u001b[0m\u001b[0;34m)\u001b[0m\u001b[0;34m\u001b[0m\u001b[0m\n\u001b[0m\u001b[1;32m    730\u001b[0m             \u001b[0;32mexcept\u001b[0m \u001b[0mException\u001b[0m\u001b[0;34m:\u001b[0m\u001b[0;34m\u001b[0m\u001b[0m\n",
      "\u001b[0;32m/usr/local/lib/python3.5/dist-packages/jupyter_client/session.py\u001b[0m in \u001b[0;36mrecv\u001b[0;34m(self, socket, mode, content, copy)\u001b[0m\n\u001b[1;32m    802\u001b[0m         \u001b[0;32mtry\u001b[0m\u001b[0;34m:\u001b[0m\u001b[0;34m\u001b[0m\u001b[0m\n\u001b[0;32m--> 803\u001b[0;31m             \u001b[0mmsg_list\u001b[0m \u001b[0;34m=\u001b[0m \u001b[0msocket\u001b[0m\u001b[0;34m.\u001b[0m\u001b[0mrecv_multipart\u001b[0m\u001b[0;34m(\u001b[0m\u001b[0mmode\u001b[0m\u001b[0;34m,\u001b[0m \u001b[0mcopy\u001b[0m\u001b[0;34m=\u001b[0m\u001b[0mcopy\u001b[0m\u001b[0;34m)\u001b[0m\u001b[0;34m\u001b[0m\u001b[0m\n\u001b[0m\u001b[1;32m    804\u001b[0m         \u001b[0;32mexcept\u001b[0m \u001b[0mzmq\u001b[0m\u001b[0;34m.\u001b[0m\u001b[0mZMQError\u001b[0m \u001b[0;32mas\u001b[0m \u001b[0me\u001b[0m\u001b[0;34m:\u001b[0m\u001b[0;34m\u001b[0m\u001b[0m\n",
      "\u001b[0;32m/usr/local/lib/python3.5/dist-packages/zmq/sugar/socket.py\u001b[0m in \u001b[0;36mrecv_multipart\u001b[0;34m(self, flags, copy, track)\u001b[0m\n\u001b[1;32m    394\u001b[0m         \"\"\"\n\u001b[0;32m--> 395\u001b[0;31m         \u001b[0mparts\u001b[0m \u001b[0;34m=\u001b[0m \u001b[0;34m[\u001b[0m\u001b[0mself\u001b[0m\u001b[0;34m.\u001b[0m\u001b[0mrecv\u001b[0m\u001b[0;34m(\u001b[0m\u001b[0mflags\u001b[0m\u001b[0;34m,\u001b[0m \u001b[0mcopy\u001b[0m\u001b[0;34m=\u001b[0m\u001b[0mcopy\u001b[0m\u001b[0;34m,\u001b[0m \u001b[0mtrack\u001b[0m\u001b[0;34m=\u001b[0m\u001b[0mtrack\u001b[0m\u001b[0;34m)\u001b[0m\u001b[0;34m]\u001b[0m\u001b[0;34m\u001b[0m\u001b[0m\n\u001b[0m\u001b[1;32m    396\u001b[0m         \u001b[0;31m# have first part already, only loop while more to receive\u001b[0m\u001b[0;34m\u001b[0m\u001b[0;34m\u001b[0m\u001b[0m\n",
      "\u001b[0;32mzmq/backend/cython/socket.pyx\u001b[0m in \u001b[0;36mzmq.backend.cython.socket.Socket.recv\u001b[0;34m()\u001b[0m\n",
      "\u001b[0;32mzmq/backend/cython/socket.pyx\u001b[0m in \u001b[0;36mzmq.backend.cython.socket.Socket.recv\u001b[0;34m()\u001b[0m\n",
      "\u001b[0;32mzmq/backend/cython/socket.pyx\u001b[0m in \u001b[0;36mzmq.backend.cython.socket._recv_copy\u001b[0;34m()\u001b[0m\n",
      "\u001b[0;32m/usr/local/lib/python3.5/dist-packages/zmq/backend/cython/checkrc.pxd\u001b[0m in \u001b[0;36mzmq.backend.cython.checkrc._check_rc\u001b[0;34m()\u001b[0m\n",
      "\u001b[0;31mKeyboardInterrupt\u001b[0m: ",
      "\nDuring handling of the above exception, another exception occurred:\n",
      "\u001b[0;31mKeyboardInterrupt\u001b[0m                         Traceback (most recent call last)",
      "\u001b[0;32m<ipython-input-14-4995dcab11f4>\u001b[0m in \u001b[0;36m<module>\u001b[0;34m()\u001b[0m\n\u001b[0;32m----> 1\u001b[0;31m \u001b[0mcaso_nuevo\u001b[0m\u001b[0;34m.\u001b[0m\u001b[0mprincipal\u001b[0m\u001b[0;34m(\u001b[0m\u001b[0;34m)\u001b[0m\u001b[0;34m\u001b[0m\u001b[0m\n\u001b[0m",
      "\u001b[0;32m~/Pythonista-Labsol/caso_nuevo/__init__.py\u001b[0m in \u001b[0;36mprincipal\u001b[0;34m()\u001b[0m\n\u001b[1;32m     20\u001b[0m             \u001b[0;31m#Se cacha una expcion y se imprime\u001b[0m\u001b[0;34m\u001b[0m\u001b[0;34m\u001b[0m\u001b[0m\n\u001b[1;32m     21\u001b[0m         \u001b[0;32mexcept\u001b[0m \u001b[0;34m(\u001b[0m\u001b[0mValueError\u001b[0m\u001b[0;34m)\u001b[0m \u001b[0;32mas\u001b[0m \u001b[0merror\u001b[0m\u001b[0;34m:\u001b[0m\u001b[0;34m\u001b[0m\u001b[0m\n\u001b[0;32m---> 22\u001b[0;31m             \u001b[0mprint\u001b[0m\u001b[0;34m(\u001b[0m\u001b[0merror\u001b[0m\u001b[0;34m)\u001b[0m\u001b[0;34m\u001b[0m\u001b[0m\n\u001b[0m\u001b[1;32m     23\u001b[0m             \u001b[0;31m#Se salta a la siguiente iteracion\u001b[0m\u001b[0;34m\u001b[0m\u001b[0;34m\u001b[0m\u001b[0m\n\u001b[1;32m     24\u001b[0m             \u001b[0;32mcontinue\u001b[0m\u001b[0;34m\u001b[0m\u001b[0m\n",
      "\u001b[0;32m~/Pythonista-Labsol/caso_nuevo/altas.py\u001b[0m in \u001b[0;36malta\u001b[0;34m()\u001b[0m\n\u001b[1;32m     24\u001b[0m                                     \u001b[0;31m#Si es entero o flotante se podra validar si es dato correspondiente\u001b[0m\u001b[0;34m\u001b[0m\u001b[0;34m\u001b[0m\u001b[0m\n\u001b[1;32m     25\u001b[0m                     \u001b[0;32mif\u001b[0m \u001b[0meval\u001b[0m\u001b[0;34m(\u001b[0m\u001b[0mdato\u001b[0m\u001b[0;34m)\u001b[0m \u001b[0;34m==\u001b[0m \u001b[0mdatos\u001b[0m\u001b[0;34m.\u001b[0m\u001b[0mcampos\u001b[0m\u001b[0;34m[\u001b[0m\u001b[0mcampo\u001b[0m\u001b[0;34m]\u001b[0m\u001b[0;34m(\u001b[0m\u001b[0mdato\u001b[0m\u001b[0;34m)\u001b[0m\u001b[0;34m:\u001b[0m\u001b[0;34m\u001b[0m\u001b[0m\n\u001b[0;32m---> 26\u001b[0;31m                         \u001b[0mdato\u001b[0m \u001b[0;34m=\u001b[0m \u001b[0mdatos\u001b[0m\u001b[0;34m.\u001b[0m\u001b[0mcampos\u001b[0m\u001b[0;34m[\u001b[0m\u001b[0mcampo\u001b[0m\u001b[0;34m]\u001b[0m\u001b[0;34m(\u001b[0m\u001b[0mdato\u001b[0m\u001b[0;34m)\u001b[0m\u001b[0;34m\u001b[0m\u001b[0m\n\u001b[0m\u001b[1;32m     27\u001b[0m                     \u001b[0;32melse\u001b[0m\u001b[0;34m:\u001b[0m\u001b[0;34m\u001b[0m\u001b[0m\n\u001b[1;32m     28\u001b[0m                         \u001b[0;32mcontinue\u001b[0m\u001b[0;34m\u001b[0m\u001b[0m\n",
      "\u001b[0;32m~/Pythonista-Labsol/caso_nuevo/altas.py\u001b[0m in \u001b[0;36m<dictcomp>\u001b[0;34m(.0)\u001b[0m\n\u001b[1;32m     24\u001b[0m                                     \u001b[0;31m#Si es entero o flotante se podra validar si es dato correspondiente\u001b[0m\u001b[0;34m\u001b[0m\u001b[0;34m\u001b[0m\u001b[0m\n\u001b[1;32m     25\u001b[0m                     \u001b[0;32mif\u001b[0m \u001b[0meval\u001b[0m\u001b[0;34m(\u001b[0m\u001b[0mdato\u001b[0m\u001b[0;34m)\u001b[0m \u001b[0;34m==\u001b[0m \u001b[0mdatos\u001b[0m\u001b[0;34m.\u001b[0m\u001b[0mcampos\u001b[0m\u001b[0;34m[\u001b[0m\u001b[0mcampo\u001b[0m\u001b[0;34m]\u001b[0m\u001b[0;34m(\u001b[0m\u001b[0mdato\u001b[0m\u001b[0;34m)\u001b[0m\u001b[0;34m:\u001b[0m\u001b[0;34m\u001b[0m\u001b[0m\n\u001b[0;32m---> 26\u001b[0;31m                         \u001b[0mdato\u001b[0m \u001b[0;34m=\u001b[0m \u001b[0mdatos\u001b[0m\u001b[0;34m.\u001b[0m\u001b[0mcampos\u001b[0m\u001b[0;34m[\u001b[0m\u001b[0mcampo\u001b[0m\u001b[0;34m]\u001b[0m\u001b[0;34m(\u001b[0m\u001b[0mdato\u001b[0m\u001b[0;34m)\u001b[0m\u001b[0;34m\u001b[0m\u001b[0m\n\u001b[0m\u001b[1;32m     27\u001b[0m                     \u001b[0;32melse\u001b[0m\u001b[0;34m:\u001b[0m\u001b[0;34m\u001b[0m\u001b[0m\n\u001b[1;32m     28\u001b[0m                         \u001b[0;32mcontinue\u001b[0m\u001b[0;34m\u001b[0m\u001b[0m\n",
      "\u001b[0;32m~/Pythonista-Labsol/caso_nuevo/altas.py\u001b[0m in \u001b[0;36mingresa\u001b[0;34m(campo)\u001b[0m\n\u001b[1;32m     12\u001b[0m         \u001b[0;31m#Bucle infinito solo termina cuando se hace un return dato.\u001b[0m\u001b[0;34m\u001b[0m\u001b[0;34m\u001b[0m\u001b[0m\n\u001b[1;32m     13\u001b[0m         \u001b[0;32mwhile\u001b[0m \u001b[0;32mTrue\u001b[0m\u001b[0;34m:\u001b[0m\u001b[0;34m\u001b[0m\u001b[0m\n\u001b[0;32m---> 14\u001b[0;31m             \u001b[0;31m#Se hace la concatenacion del mensaje que se le va a mostrar al usuario\u001b[0m\u001b[0;34m\u001b[0m\u001b[0;34m\u001b[0m\u001b[0m\n\u001b[0m\u001b[1;32m     15\u001b[0m             \u001b[0mmensaje\u001b[0m \u001b[0;34m=\u001b[0m \u001b[0;34m\"Ingrese \"\u001b[0m \u001b[0;34m+\u001b[0m \u001b[0mcampo\u001b[0m\u001b[0;34m.\u001b[0m\u001b[0mlower\u001b[0m\u001b[0;34m(\u001b[0m\u001b[0;34m)\u001b[0m \u001b[0;34m+\u001b[0m \u001b[0;34m\": \"\u001b[0m\u001b[0;34m\u001b[0m\u001b[0m\n\u001b[1;32m     16\u001b[0m             \u001b[0;31m#Solicita por pantalla al usuario que ingrese lo que se le pide en el mensaje\u001b[0m\u001b[0;34m\u001b[0m\u001b[0;34m\u001b[0m\u001b[0m\n",
      "\u001b[0;32m/usr/local/lib/python3.5/dist-packages/ipykernel/kernelbase.py\u001b[0m in \u001b[0;36mraw_input\u001b[0;34m(self, prompt)\u001b[0m\n\u001b[1;32m    702\u001b[0m             \u001b[0mself\u001b[0m\u001b[0;34m.\u001b[0m\u001b[0m_parent_ident\u001b[0m\u001b[0;34m,\u001b[0m\u001b[0;34m\u001b[0m\u001b[0m\n\u001b[1;32m    703\u001b[0m             \u001b[0mself\u001b[0m\u001b[0;34m.\u001b[0m\u001b[0m_parent_header\u001b[0m\u001b[0;34m,\u001b[0m\u001b[0;34m\u001b[0m\u001b[0m\n\u001b[0;32m--> 704\u001b[0;31m             \u001b[0mpassword\u001b[0m\u001b[0;34m=\u001b[0m\u001b[0;32mFalse\u001b[0m\u001b[0;34m,\u001b[0m\u001b[0;34m\u001b[0m\u001b[0m\n\u001b[0m\u001b[1;32m    705\u001b[0m         )\n\u001b[1;32m    706\u001b[0m \u001b[0;34m\u001b[0m\u001b[0m\n",
      "\u001b[0;32m/usr/local/lib/python3.5/dist-packages/ipykernel/kernelbase.py\u001b[0m in \u001b[0;36m_input_request\u001b[0;34m(self, prompt, ident, parent, password)\u001b[0m\n\u001b[1;32m    732\u001b[0m             \u001b[0;32mexcept\u001b[0m \u001b[0mKeyboardInterrupt\u001b[0m\u001b[0;34m:\u001b[0m\u001b[0;34m\u001b[0m\u001b[0m\n\u001b[1;32m    733\u001b[0m                 \u001b[0;31m# re-raise KeyboardInterrupt, to truncate traceback\u001b[0m\u001b[0;34m\u001b[0m\u001b[0;34m\u001b[0m\u001b[0m\n\u001b[0;32m--> 734\u001b[0;31m                 \u001b[0;32mraise\u001b[0m \u001b[0mKeyboardInterrupt\u001b[0m\u001b[0;34m\u001b[0m\u001b[0m\n\u001b[0m\u001b[1;32m    735\u001b[0m             \u001b[0;32melse\u001b[0m\u001b[0;34m:\u001b[0m\u001b[0;34m\u001b[0m\u001b[0m\n\u001b[1;32m    736\u001b[0m                 \u001b[0;32mbreak\u001b[0m\u001b[0;34m\u001b[0m\u001b[0m\n",
      "\u001b[0;31mKeyboardInterrupt\u001b[0m: "
     ]
    }
   ],
   "source": [
    "caso_nuevo.principal()"
   ]
  },
  {
   "cell_type": "code",
   "execution_count": 7,
   "metadata": {},
   "outputs": [
    {
     "name": "stdout",
     "output_type": "stream",
     "text": [
      "{\"Nombre\":\"Eduardo\", \"Primer Apellido\": \"Sánchez\",\"Segundo Apellido\": \"Ramos\", \"Carrera\": \"Sistemas\",\"Semestre\": 6, \"Promedio\": 7.5, \"Al Corriente\": True}\r\n",
      "{\"Nombre\": \"Alberto\", \"Primer Apellido\": \"Durán\",\"Segundo Apellido\": \"Montellano\", \"Carrera\": \"Derecho\", \"Semestre\": 2, \"Promedio\": 6.3, \"Al Corriente\": True}\r\n",
      "{\"Nombre\": \"Joaquín\", \"Primer Apellido\": \"Ausencio\", \"Segundo Apellido\": \"Olvera\", \"Carrera\": \"Actuaría\", \"Semestre\": 2, \"Promedio\": 5.2, \"Al Corriente\": False}\r\n",
      "{\"Nombre\": \"Emiliano\", \"Primer Apellido\": \"Rentería\", \"Segundo Apellido\": \"\", \"Carrera\": \"Administración\", \"Semestre\": 4, \"Promedio\": 8.7, \"Al Corriente\": True}\r\n",
      "{\"Nombre\": \"Patricio\", \"Primer Apellido\": \"Ayala\", \"Segundo Apellido\": \"Arriaga\", \"Carrera\": \"Sistemas\", \"Semestre\": 5, \"Promedio\": 8.0, \"Al Corriente\": True}\r\n",
      "{'Nombre': 'Jaime', 'Primer Apellido': 'Sabines', 'Segundo Apellido': 'López', 'Carrera': 'Derecho', 'Semestre': 7, 'Promedio': 8.45, 'Al Corriente': True}\r\n",
      "{'Carrera': 'Sistemas', 'Nombre': 'l', 'Segundo Apellido': 'l', 'Al Corriente': True, 'Primer Apellido': 'l', 'Semestre': 2, 'Promedio': 0.0}\r\n"
     ]
    }
   ],
   "source": [
    "%cat caso_nuevo/alumnos.txt"
   ]
  },
  {
   "cell_type": "code",
   "execution_count": 12,
   "metadata": {},
   "outputs": [
    {
     "ename": "AttributeError",
     "evalue": "module 'caso_nuevo' has no attribute 'buscar'",
     "output_type": "error",
     "traceback": [
      "\u001b[0;31m---------------------------------------------------------------------------\u001b[0m",
      "\u001b[0;31mAttributeError\u001b[0m                            Traceback (most recent call last)",
      "\u001b[0;32m<ipython-input-12-6cba5f663d13>\u001b[0m in \u001b[0;36m<module>\u001b[0;34m()\u001b[0m\n\u001b[0;32m----> 1\u001b[0;31m \u001b[0mcaso_nuevo\u001b[0m\u001b[0;34m.\u001b[0m\u001b[0mbuscar\u001b[0m\u001b[0;34m(\u001b[0m\u001b[0;34m\"L\"\u001b[0m\u001b[0;34m)\u001b[0m\u001b[0;34m\u001b[0m\u001b[0m\n\u001b[0m",
      "\u001b[0;31mAttributeError\u001b[0m: module 'caso_nuevo' has no attribute 'buscar'"
     ]
    }
   ],
   "source": [
    "caso_nuevo.buscar(\"L\")"
   ]
  },
  {
   "cell_type": "markdown",
   "metadata": {},
   "source": [
    "## Tarea a realizar.\n",
    "\n",
    "* Lea, analice y comente el código de cada módulo.\n",
    "* Cree un nuevo módulo en cada paquete llamado *busqueda* que contenga la función *buscar()* que realice busquedas de coincidencias de una cadena de caracteres, la cual se ingresa como argumento de dicha función. Dicha búsqueda se realizará en los campos *Nombre*, *Primer apellido* y *Segundo apellido*. La función debe de regresar un objeto de tipo *tuple* que contenga todos los datos de los registros que coincidan."
   ]
  }
 ],
 "metadata": {
  "kernelspec": {
   "display_name": "Python 3",
   "language": "python",
   "name": "python3"
  },
  "language_info": {
   "codemirror_mode": {
    "name": "ipython",
    "version": 3
   },
   "file_extension": ".py",
   "mimetype": "text/x-python",
   "name": "python",
   "nbconvert_exporter": "python",
   "pygments_lexer": "ipython3",
   "version": "3.5.2"
  }
 },
 "nbformat": 4,
 "nbformat_minor": 2
}
