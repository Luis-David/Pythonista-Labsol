{
 "cells": [
  {
   "cell_type": "markdown",
   "metadata": {},
   "source": [
    "## Objetivo del código.\n",
    "\n",
    "El código de este ejercicio tiene por objetivo el de formar un sistema básico de altas de alumnos con los siguientes campos datos:\n",
    "\n",
    "* Nombre.\n",
    "* Primer apellido.\n",
    "* Segundo apellido (opcional).\n",
    "* Carrera.\n",
    "* Semestre.\n",
    "* Promedio.\n",
    "* Si se encuentra al corriente en sus pagos mediante un objeto de tipo *bool*.\n",
    "\n",
    "Existen ciertas reglas que deben de reforzarse:\n",
    "\n",
    "* Cada campo debe de corresponder de un tipo de dato específico.\n",
    "* El promedio del alumno debe de ser una cantidad entre 0 y 10.\n",
    "* Los semestres son enteros mayores o iguales a 1.\n",
    "* Sólo se pueden ingresar carreras registradas.\n",
    "* Aún cuando el campo Segundo apellido es opcional, es necesario pedir confirmación de que se deja en blanco.\n",
    "\n",
    "\n",
    "## Ejecución:\n",
    "\n",
    "Al ejecutar el código, se pedirá al usuario que ingrese el número de alumnos a dar de alta y el sistema procederá a pedir y validar cada campo de datos del alumno.\n",
    "Una vez terminada la captura, desplegará los datos de todos los registros."
   ]
  },
  {
   "cell_type": "markdown",
   "metadata": {},
   "source": [
    "## El paquete *caso*.\n",
    "\n",
    "Este paquete incluye varios módulos que realizarán las actividades descritas con los datos en memoria."
   ]
  },
  {
   "cell_type": "code",
   "execution_count": null,
   "metadata": {},
   "outputs": [],
   "source": [
    "import caso"
   ]
  },
  {
   "cell_type": "code",
   "execution_count": null,
   "metadata": {},
   "outputs": [],
   "source": [
    "caso.principal()"
   ]
  },
  {
   "cell_type": "markdown",
   "metadata": {},
   "source": [
    "## El paquete *caso_nuevo*.\n",
    "Este paquete incluye varios módulos que realizarán las actividades descritas, pero los datos son almacenados en el archivo de texto en la ruta local *caso_nuevo/alumnos.txt* como una sucesión de líneas en donde cada una de ellas corresponden a un objeto de tipo *dict*."
   ]
  },
  {
   "cell_type": "code",
   "execution_count": null,
   "metadata": {},
   "outputs": [],
   "source": [
    "%cat caso_nuevo/alumnos.txt"
   ]
  },
  {
   "cell_type": "code",
   "execution_count": null,
   "metadata": {},
   "outputs": [],
   "source": [
    "import caso_nuevo"
   ]
  },
  {
   "cell_type": "code",
   "execution_count": null,
   "metadata": {},
   "outputs": [],
   "source": [
    "caso_nuevo.principal()"
   ]
  },
  {
   "cell_type": "code",
   "execution_count": null,
   "metadata": {},
   "outputs": [],
   "source": [
    "%cat caso_nuevo/alumnos.txt"
   ]
  },
  {
   "cell_type": "markdown",
   "metadata": {},
   "source": [
    "## Tarea a realizar.\n",
    "\n",
    "* Lea, analice y comente el código de cada módulo.\n",
    "* Cree un nuevo módulo en cada paquete llamado *busqueda* que contenga la función *buscar()* que realice busquedas de coincidencias de una cadena de caracteres, la cual se ingresa como argumento de dicha función. Dicha búsqueda se realizará en los campos *Nombre*, *Primer apellido* y *Segundo apellido*. La función debe de regresar un objeto de tipo *tuple* que contenga todos los datos de los registros que coincidan."
   ]
  }
 ],
 "metadata": {
  "kernelspec": {
   "display_name": "Python 3",
   "language": "python",
   "name": "python3"
  },
  "language_info": {
   "codemirror_mode": {
    "name": "ipython",
    "version": 3
   },
   "file_extension": ".py",
   "mimetype": "text/x-python",
   "name": "python",
   "nbconvert_exporter": "python",
   "pygments_lexer": "ipython3",
   "version": "3.5.2"
  }
 },
 "nbformat": 4,
 "nbformat_minor": 2
}
